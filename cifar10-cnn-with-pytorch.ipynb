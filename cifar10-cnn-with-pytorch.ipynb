{
 "cells": [
  {
   "cell_type": "markdown",
   "id": "844cd6e6",
   "metadata": {
    "papermill": {
     "duration": 0.005506,
     "end_time": "2024-01-16T10:22:55.006487",
     "exception": false,
     "start_time": "2024-01-16T10:22:55.000981",
     "status": "completed"
    },
    "tags": []
   },
   "source": [
    "## Import library"
   ]
  },
  {
   "cell_type": "code",
   "execution_count": 1,
   "id": "6035daae",
   "metadata": {
    "_cell_guid": "b1076dfc-b9ad-4769-8c92-a6c4dae69d19",
    "_uuid": "8f2839f25d086af736a60e9eeb907d3b93b6e0e5",
    "execution": {
     "iopub.execute_input": "2024-01-16T10:22:55.017704Z",
     "iopub.status.busy": "2024-01-16T10:22:55.017363Z",
     "iopub.status.idle": "2024-01-16T10:22:59.443029Z",
     "shell.execute_reply": "2024-01-16T10:22:59.442109Z"
    },
    "papermill": {
     "duration": 4.434107,
     "end_time": "2024-01-16T10:22:59.445749",
     "exception": false,
     "start_time": "2024-01-16T10:22:55.011642",
     "status": "completed"
    },
    "tags": []
   },
   "outputs": [],
   "source": [
    "import torch\n",
    "import torchvision\n",
    "import torchvision.transforms as transforms\n",
    "import torch.nn as nn\n",
    "import torch.nn.functional as F\n",
    "\n",
    "import numpy as np\n",
    "import matplotlib.pyplot as plt\n",
    "\n",
    "from torchvision.datasets import CIFAR10\n",
    "from torch.utils.data import DataLoader \n",
    "from torch.optim import Adam\n",
    "\n",
    "torch.manual_seed(1)\n",
    "device = 'cuda' if torch.cuda.is_available else 'cpu'"
   ]
  },
  {
   "cell_type": "markdown",
   "id": "acacca41",
   "metadata": {
    "papermill": {
     "duration": 0.004877,
     "end_time": "2024-01-16T10:22:59.456171",
     "exception": false,
     "start_time": "2024-01-16T10:22:59.451294",
     "status": "completed"
    },
    "tags": []
   },
   "source": [
    "## Import data"
   ]
  },
  {
   "cell_type": "code",
   "execution_count": 2,
   "id": "edd8b8ce",
   "metadata": {
    "execution": {
     "iopub.execute_input": "2024-01-16T10:22:59.468521Z",
     "iopub.status.busy": "2024-01-16T10:22:59.468051Z",
     "iopub.status.idle": "2024-01-16T10:23:07.077607Z",
     "shell.execute_reply": "2024-01-16T10:23:07.076799Z"
    },
    "papermill": {
     "duration": 7.618388,
     "end_time": "2024-01-16T10:23:07.079892",
     "exception": false,
     "start_time": "2024-01-16T10:22:59.461504",
     "status": "completed"
    },
    "tags": []
   },
   "outputs": [
    {
     "name": "stdout",
     "output_type": "stream",
     "text": [
      "Downloading https://www.cs.toronto.edu/~kriz/cifar-10-python.tar.gz to ./data/cifar-10-python.tar.gz\n"
     ]
    },
    {
     "name": "stderr",
     "output_type": "stream",
     "text": [
      "100%|██████████| 170498071/170498071 [00:02<00:00, 77769586.11it/s]\n"
     ]
    },
    {
     "name": "stdout",
     "output_type": "stream",
     "text": [
      "Extracting ./data/cifar-10-python.tar.gz to ./data\n",
      "Files already downloaded and verified\n"
     ]
    }
   ],
   "source": [
    "batch_size = 256\n",
    "train_transform = transforms.Compose([\n",
    "    transforms.RandomCrop(32, padding=2),\n",
    "    transforms.RandomHorizontalFlip(p=0.5),\n",
    "    transforms.RandomRotation(5),\n",
    "    transforms.ToTensor(),\n",
    "    transforms.Normalize([0.4914, 0.4822, 0.4465], # These are parameter when using z-score normalization\n",
    "                         [0.2470, 0.2435, 0.2616]),\n",
    "    transforms.RandomErasing(p=0.75,\n",
    "                             scale=(0.01, 0.3),\n",
    "                             ratio=(1.0, 1.0),\n",
    "                             value=0,\n",
    "                             inplace =True) # Add noise to the traning data to avoid overfit\n",
    "])\n",
    "valid_transform = transforms.Compose([\n",
    "    transforms.ToTensor(),\n",
    "    transforms.Normalize([0.4914, 0.4822, 0.4465], \n",
    "                         [0.2470, 0.2435, 0.2616]),\n",
    "    \n",
    "])\n",
    "\n",
    "train_set = CIFAR10(\n",
    "    root = './data',\n",
    "    train = True,\n",
    "    download = True,\n",
    "    transform = train_transform\n",
    ")\n",
    "val_set = CIFAR10(\n",
    "    root = './data',\n",
    "    train = False,\n",
    "    download = True,\n",
    "    transform = valid_transform\n",
    ")\n",
    "\n",
    "trainloader = DataLoader(\n",
    "    train_set,\n",
    "    batch_size = batch_size,\n",
    "    shuffle = True,\n",
    "    num_workers = 4\n",
    ")\n",
    "testloader = DataLoader(\n",
    "    val_set,\n",
    "    batch_size = batch_size,\n",
    "    num_workers = 4\n",
    ")"
   ]
  },
  {
   "cell_type": "code",
   "execution_count": 3,
   "id": "75ef1494",
   "metadata": {
    "execution": {
     "iopub.execute_input": "2024-01-16T10:23:07.096141Z",
     "iopub.status.busy": "2024-01-16T10:23:07.095782Z",
     "iopub.status.idle": "2024-01-16T10:23:07.707575Z",
     "shell.execute_reply": "2024-01-16T10:23:07.706537Z"
    },
    "papermill": {
     "duration": 0.622402,
     "end_time": "2024-01-16T10:23:07.709667",
     "exception": false,
     "start_time": "2024-01-16T10:23:07.087265",
     "status": "completed"
    },
    "tags": []
   },
   "outputs": [
    {
     "data": {
      "image/png": "[encoded data removed]",
      "text/plain": [
       "<Figure size 1200x300 with 5 Axes>"
      ]
     },
     "metadata": {},
     "output_type": "display_data"
    }
   ],
   "source": [
    "def plot_cifar_images(dataset, num_images=5):\n",
    "    dataloader = DataLoader(dataset, batch_size=num_images, shuffle=True)\n",
    "    images, labels = next(iter(dataloader))\n",
    "\n",
    "    classes = ('plane', 'car', 'bird', 'cat', 'deer', 'dog', 'frog', 'horse', 'ship', 'truck')\n",
    "\n",
    "    fig, axes = plt.subplots(1, num_images, figsize=(12, 3))\n",
    "\n",
    "    for i, (image, label) in enumerate(zip(images, labels)):\n",
    "        # Unnormalize the image\n",
    "        image = image.permute(1, 2, 0) / 2 + 0.5\n",
    "\n",
    "        axes[i].imshow(image)\n",
    "        axes[i].set_title(classes[label.item()])\n",
    "        axes[i].axis('off')\n",
    "\n",
    "    plt.show()\n",
    "    \n",
    "plot_cifar_images(train_set, num_images=5)"
   ]
  },
  {
   "cell_type": "markdown",
   "id": "a43a100d",
   "metadata": {
    "papermill": {
     "duration": 0.007363,
     "end_time": "2024-01-16T10:23:07.724820",
     "exception": false,
     "start_time": "2024-01-16T10:23:07.717457",
     "status": "completed"
    },
    "tags": []
   },
   "source": [
    "These are resulted images when you using data augmentation, and adding noise to the train set. As a result, it makes our data more diversity"
   ]
  },
  {
   "cell_type": "markdown",
   "id": "72f80801",
   "metadata": {
    "papermill": {
     "duration": 0.007194,
     "end_time": "2024-01-16T10:23:07.739580",
     "exception": false,
     "start_time": "2024-01-16T10:23:07.732386",
     "status": "completed"
    },
    "tags": []
   },
   "source": [
    "## Model"
   ]
  },
  {
   "cell_type": "code",
   "execution_count": 4,
   "id": "b8d4da55",
   "metadata": {
    "execution": {
     "iopub.execute_input": "2024-01-16T10:23:07.756109Z",
     "iopub.status.busy": "2024-01-16T10:23:07.755659Z",
     "iopub.status.idle": "2024-01-16T10:23:07.775417Z",
     "shell.execute_reply": "2024-01-16T10:23:07.774673Z"
    },
    "papermill": {
     "duration": 0.030316,
     "end_time": "2024-01-16T10:23:07.777326",
     "exception": false,
     "start_time": "2024-01-16T10:23:07.747010",
     "status": "completed"
    },
    "tags": []
   },
   "outputs": [],
   "source": [
    "class CNNModel(nn.Module):\n",
    "    def __init__(self, n_classes=10, dropout_rate=0.3):\n",
    "        super(CNNModel,self).__init__()\n",
    "        self.block1 = nn.Sequential(\n",
    "            nn.Conv2d(3,64,3,padding='same'),nn.ReLU(),\n",
    "            nn.BatchNorm2d(64),\n",
    "            nn.Conv2d(64,64,3,padding='same'),nn.ReLU(),\n",
    "            nn.BatchNorm2d(64),\n",
    "            nn.MaxPool2d(2,2),\n",
    "            nn.Dropout(dropout_rate)\n",
    "        )\n",
    "        self.skip1 = nn.Sequential(\n",
    "            nn.Conv2d(3,64,3,stride=2, padding=1),nn.ReLU(),\n",
    "            nn.BatchNorm2d(64)\n",
    "        )\n",
    "        \n",
    "        self.block2 = nn.Sequential(\n",
    "            nn.Conv2d(64,128,3,padding='same'),nn.ReLU(),\n",
    "            nn.BatchNorm2d(128),\n",
    "            nn.Conv2d(128,128,3,padding='same'),nn.ReLU(),\n",
    "            nn.BatchNorm2d(128),\n",
    "            nn.MaxPool2d(2,2),\n",
    "            nn.Dropout(dropout_rate)\n",
    "        )\n",
    "        self.skip2 = nn.Sequential(\n",
    "            nn.Conv2d(64,128,3,stride=2, padding=1),nn.ReLU(),\n",
    "            nn.BatchNorm2d(128)\n",
    "        )\n",
    "        \n",
    "        self.block3 = nn.Sequential(\n",
    "            nn.Conv2d(128,256,3,padding='same'),nn.ReLU(),\n",
    "            nn.BatchNorm2d(256),\n",
    "            nn.Conv2d(256,256,3,padding='same'),nn.ReLU(),\n",
    "            nn.BatchNorm2d(256),\n",
    "            nn.Conv2d(256,256,3,padding='same'),nn.ReLU(),\n",
    "            nn.BatchNorm2d(256),\n",
    "            nn.MaxPool2d(2,2),\n",
    "            nn.Dropout(dropout_rate)\n",
    "        )\n",
    "        self.skip3 = nn.Sequential(\n",
    "            nn.Conv2d(128,256,3,stride=2, padding=1),nn.ReLU(),\n",
    "            nn.BatchNorm2d(256)\n",
    "        )\n",
    "        \n",
    "        self.block4 = nn.Sequential(\n",
    "            nn.Conv2d(256,512,3,padding='same'),nn.ReLU(),\n",
    "            nn.BatchNorm2d(512),\n",
    "            nn.Conv2d(512,512,3,padding='same'),nn.ReLU(),\n",
    "            nn.BatchNorm2d(512),\n",
    "            nn.Conv2d(512,512,3,padding='same'),nn.ReLU(),\n",
    "            nn.BatchNorm2d(512),\n",
    "            nn.MaxPool2d(2,2),\n",
    "            nn.Dropout(dropout_rate)\n",
    "        )\n",
    "        self.skip4 = nn.Sequential(\n",
    "            nn.Conv2d(256,512,3,stride=2, padding=1),nn.ReLU(),\n",
    "            nn.BatchNorm2d(512)\n",
    "        )\n",
    "        \n",
    "        self.flatten = nn.Flatten()\n",
    "        self.fc1 = nn.Sequential(\n",
    "            nn.Linear(512*2*2,512),nn.ReLU(),\n",
    "            nn.BatchNorm1d(512),\n",
    "            nn.Linear(512, 64),\n",
    "            nn.ReLU(),\n",
    "            nn.BatchNorm1d(64)\n",
    "        )\n",
    "        self.fc2 = nn.Linear(64,n_classes)\n",
    "        \n",
    "    def forward(self,x):\n",
    "        skip = self.skip1(x)\n",
    "        x = self.block1(x)\n",
    "        x = x+skip\n",
    "        \n",
    "        skip = self.skip2(x)\n",
    "        x = self.block2(x)\n",
    "        x = x+skip\n",
    "        \n",
    "        skip = self.skip3(x)\n",
    "        x = self.block3(x)\n",
    "        x = x+skip\n",
    "        \n",
    "        skip = self.skip4(x)\n",
    "        x = self.block4(x)\n",
    "        x = x+skip\n",
    "        \n",
    "        x = self.flatten(x)\n",
    "        x = self.fc1(x)\n",
    "        x = self.fc2(x)\n",
    "        \n",
    "        return x\n",
    "        "
   ]
  },
  {
   "cell_type": "code",
   "execution_count": 5,
   "id": "657a5a89",
   "metadata": {
    "execution": {
     "iopub.execute_input": "2024-01-16T10:23:07.793702Z",
     "iopub.status.busy": "2024-01-16T10:23:07.793419Z",
     "iopub.status.idle": "2024-01-16T10:23:08.141465Z",
     "shell.execute_reply": "2024-01-16T10:23:08.140563Z"
    },
    "papermill": {
     "duration": 0.358879,
     "end_time": "2024-01-16T10:23:08.143835",
     "exception": false,
     "start_time": "2024-01-16T10:23:07.784956",
     "status": "completed"
    },
    "tags": []
   },
   "outputs": [
    {
     "name": "stdout",
     "output_type": "stream",
     "text": [
      "CNNModel(\n",
      "  (block1): Sequential(\n",
      "    (0): Conv2d(3, 64, kernel_size=(3, 3), stride=(1, 1), padding=same)\n",
      "    (1): ReLU()\n",
      "    (2): BatchNorm2d(64, eps=1e-05, momentum=0.1, affine=True, track_running_stats=True)\n",
      "    (3): Conv2d(64, 64, kernel_size=(3, 3), stride=(1, 1), padding=same)\n",
      "    (4): ReLU()\n",
      "    (5): BatchNorm2d(64, eps=1e-05, momentum=0.1, affine=True, track_running_stats=True)\n",
      "    (6): MaxPool2d(kernel_size=2, stride=2, padding=0, dilation=1, ceil_mode=False)\n",
      "    (7): Dropout(p=0.3, inplace=False)\n",
      "  )\n",
      "  (skip1): Sequential(\n",
      "    (0): Conv2d(3, 64, kernel_size=(3, 3), stride=(2, 2), padding=(1, 1))\n",
      "    (1): ReLU()\n",
      "    (2): BatchNorm2d(64, eps=1e-05, momentum=0.1, affine=True, track_running_stats=True)\n",
      "  )\n",
      "  (block2): Sequential(\n",
      "    (0): Conv2d(64, 128, kernel_size=(3, 3), stride=(1, 1), padding=same)\n",
      "    (1): ReLU()\n",
      "    (2): BatchNorm2d(128, eps=1e-05, momentum=0.1, affine=True, track_running_stats=True)\n",
      "    (3): Conv2d(128, 128, kernel_size=(3, 3), stride=(1, 1), padding=same)\n",
      "    (4): ReLU()\n",
      "    (5): BatchNorm2d(128, eps=1e-05, momentum=0.1, affine=True, track_running_stats=True)\n",
      "    (6): MaxPool2d(kernel_size=2, stride=2, padding=0, dilation=1, ceil_mode=False)\n",
      "    (7): Dropout(p=0.3, inplace=False)\n",
      "  )\n",
      "  (skip2): Sequential(\n",
      "    (0): Conv2d(64, 128, kernel_size=(3, 3), stride=(2, 2), padding=(1, 1))\n",
      "    (1): ReLU()\n",
      "    (2): BatchNorm2d(128, eps=1e-05, momentum=0.1, affine=True, track_running_stats=True)\n",
      "  )\n",
      "  (block3): Sequential(\n",
      "    (0): Conv2d(128, 256, kernel_size=(3, 3), stride=(1, 1), padding=same)\n",
      "    (1): ReLU()\n",
      "    (2): BatchNorm2d(256, eps=1e-05, momentum=0.1, affine=True, track_running_stats=True)\n",
      "    (3): Conv2d(256, 256, kernel_size=(3, 3), stride=(1, 1), padding=same)\n",
      "    (4): ReLU()\n",
      "    (5): BatchNorm2d(256, eps=1e-05, momentum=0.1, affine=True, track_running_stats=True)\n",
      "    (6): Conv2d(256, 256, kernel_size=(3, 3), stride=(1, 1), padding=same)\n",
      "    (7): ReLU()\n",
      "    (8): BatchNorm2d(256, eps=1e-05, momentum=0.1, affine=True, track_running_stats=True)\n",
      "    (9): MaxPool2d(kernel_size=2, stride=2, padding=0, dilation=1, ceil_mode=False)\n",
      "    (10): Dropout(p=0.3, inplace=False)\n",
      "  )\n",
      "  (skip3): Sequential(\n",
      "    (0): Conv2d(128, 256, kernel_size=(3, 3), stride=(2, 2), padding=(1, 1))\n",
      "    (1): ReLU()\n",
      "    (2): BatchNorm2d(256, eps=1e-05, momentum=0.1, affine=True, track_running_stats=True)\n",
      "  )\n",
      "  (block4): Sequential(\n",
      "    (0): Conv2d(256, 512, kernel_size=(3, 3), stride=(1, 1), padding=same)\n",
      "    (1): ReLU()\n",
      "    (2): BatchNorm2d(512, eps=1e-05, momentum=0.1, affine=True, track_running_stats=True)\n",
      "    (3): Conv2d(512, 512, kernel_size=(3, 3), stride=(1, 1), padding=same)\n",
      "    (4): ReLU()\n",
      "    (5): BatchNorm2d(512, eps=1e-05, momentum=0.1, affine=True, track_running_stats=True)\n",
      "    (6): Conv2d(512, 512, kernel_size=(3, 3), stride=(1, 1), padding=same)\n",
      "    (7): ReLU()\n",
      "    (8): BatchNorm2d(512, eps=1e-05, momentum=0.1, affine=True, track_running_stats=True)\n",
      "    (9): MaxPool2d(kernel_size=2, stride=2, padding=0, dilation=1, ceil_mode=False)\n",
      "    (10): Dropout(p=0.3, inplace=False)\n",
      "  )\n",
      "  (skip4): Sequential(\n",
      "    (0): Conv2d(256, 512, kernel_size=(3, 3), stride=(2, 2), padding=(1, 1))\n",
      "    (1): ReLU()\n",
      "    (2): BatchNorm2d(512, eps=1e-05, momentum=0.1, affine=True, track_running_stats=True)\n",
      "  )\n",
      "  (flatten): Flatten(start_dim=1, end_dim=-1)\n",
      "  (fc1): Sequential(\n",
      "    (0): Linear(in_features=2048, out_features=512, bias=True)\n",
      "    (1): ReLU()\n",
      "    (2): BatchNorm1d(512, eps=1e-05, momentum=0.1, affine=True, track_running_stats=True)\n",
      "    (3): Linear(in_features=512, out_features=64, bias=True)\n",
      "    (4): ReLU()\n",
      "    (5): BatchNorm1d(64, eps=1e-05, momentum=0.1, affine=True, track_running_stats=True)\n",
      "  )\n",
      "  (fc2): Linear(in_features=64, out_features=10, bias=True)\n",
      ")\n"
     ]
    }
   ],
   "source": [
    "model = CNNModel(10)\n",
    "model.to(device)\n",
    "print(model)"
   ]
  },
  {
   "cell_type": "markdown",
   "id": "2e53f280",
   "metadata": {
    "papermill": {
     "duration": 0.007212,
     "end_time": "2024-01-16T10:23:08.158649",
     "exception": false,
     "start_time": "2024-01-16T10:23:08.151437",
     "status": "completed"
    },
    "tags": []
   },
   "source": [
    "## Train"
   ]
  },
  {
   "cell_type": "markdown",
   "id": "a5a632e9",
   "metadata": {
    "papermill": {
     "duration": 0.007255,
     "end_time": "2024-01-16T10:23:08.173350",
     "exception": false,
     "start_time": "2024-01-16T10:23:08.166095",
     "status": "completed"
    },
    "tags": []
   },
   "source": [
    "Using weight decay and Exponential decay learning rate to improve optimization process"
   ]
  },
  {
   "cell_type": "code",
   "execution_count": 6,
   "id": "cf26aeaf",
   "metadata": {
    "execution": {
     "iopub.execute_input": "2024-01-16T10:23:08.190690Z",
     "iopub.status.busy": "2024-01-16T10:23:08.189999Z",
     "iopub.status.idle": "2024-01-16T10:23:08.196543Z",
     "shell.execute_reply": "2024-01-16T10:23:08.195649Z"
    },
    "papermill": {
     "duration": 0.017756,
     "end_time": "2024-01-16T10:23:08.198542",
     "exception": false,
     "start_time": "2024-01-16T10:23:08.180786",
     "status": "completed"
    },
    "tags": []
   },
   "outputs": [],
   "source": [
    "criterion = nn.CrossEntropyLoss()\n",
    "optimizer = Adam(model.parameters(), lr=1e-3, weight_decay=5e-4)  \n",
    "decayRate = 0.96\n",
    "lr_scheduler = torch.optim.lr_scheduler.ExponentialLR(optimizer=optimizer, gamma=decayRate)"
   ]
  },
  {
   "cell_type": "code",
   "execution_count": 7,
   "id": "5d85970c",
   "metadata": {
    "execution": {
     "iopub.execute_input": "2024-01-16T10:23:08.215361Z",
     "iopub.status.busy": "2024-01-16T10:23:08.215051Z",
     "iopub.status.idle": "2024-01-16T10:23:08.222021Z",
     "shell.execute_reply": "2024-01-16T10:23:08.221190Z"
    },
    "papermill": {
     "duration": 0.017576,
     "end_time": "2024-01-16T10:23:08.223920",
     "exception": false,
     "start_time": "2024-01-16T10:23:08.206344",
     "status": "completed"
    },
    "tags": []
   },
   "outputs": [],
   "source": [
    "# Function to compute loss and accuracy for test set\n",
    "def evaluate(model, testloader, criterion):\n",
    "    model.eval()\n",
    "    test_loss = 0.0\n",
    "    running_correct = 0\n",
    "    total = 0\n",
    "    with torch.no_grad():\n",
    "        for images, labels in testloader:\n",
    "            # Move inputs and labels to the device\n",
    "            images, labels = images.to(device), labels.to(device)\n",
    "\n",
    "            outputs = model(images)\n",
    "            loss = criterion(outputs, labels)\n",
    "            test_loss += loss.item()\n",
    "            \n",
    "            _, predicted = torch.max(outputs.data, 1)\n",
    "            total += labels.size(0)\n",
    "            running_correct += (predicted == labels).sum().item()\n",
    "\n",
    "    accuracy = 100 * running_correct / total\n",
    "    test_loss = test_loss / len(testloader)\n",
    "    return test_loss, accuracy"
   ]
  },
  {
   "cell_type": "code",
   "execution_count": 8,
   "id": "a7688313",
   "metadata": {
    "execution": {
     "iopub.execute_input": "2024-01-16T10:23:08.241528Z",
     "iopub.status.busy": "2024-01-16T10:23:08.240743Z",
     "iopub.status.idle": "2024-01-16T10:23:08.246245Z",
     "shell.execute_reply": "2024-01-16T10:23:08.245367Z"
    },
    "papermill": {
     "duration": 0.0158,
     "end_time": "2024-01-16T10:23:08.248266",
     "exception": false,
     "start_time": "2024-01-16T10:23:08.232466",
     "status": "completed"
    },
    "tags": []
   },
   "outputs": [],
   "source": [
    "# some parameters\n",
    "train_losses = []\n",
    "train_accuracies = []\n",
    "test_losses = [] \n",
    "test_accuracies = []\n",
    "max_epoch = 250"
   ]
  },
  {
   "cell_type": "code",
   "execution_count": 9,
   "id": "6ce7179d",
   "metadata": {
    "execution": {
     "iopub.execute_input": "2024-01-16T10:23:08.264498Z",
     "iopub.status.busy": "2024-01-16T10:23:08.264217Z",
     "iopub.status.idle": "2024-01-16T11:54:38.236450Z",
     "shell.execute_reply": "2024-01-16T11:54:38.235275Z"
    },
    "papermill": {
     "duration": 5490.011017,
     "end_time": "2024-01-16T11:54:38.266654",
     "exception": false,
     "start_time": "2024-01-16T10:23:08.255637",
     "status": "completed"
    },
    "tags": []
   },
   "outputs": [
    {
     "name": "stdout",
     "output_type": "stream",
     "text": [
      "Epoch [1/250], Loss: 1.5266, Accuracy: 44.29%, Test Loss: 1.1628, Test Accuracy: 58.05%\n",
      "Epoch [2/250], Loss: 1.1228, Accuracy: 59.81%, Test Loss: 0.8933, Test Accuracy: 68.92%\n",
      "Epoch [3/250], Loss: 0.9343, Accuracy: 67.01%, Test Loss: 0.7145, Test Accuracy: 75.15%\n",
      "Epoch [4/250], Loss: 0.8307, Accuracy: 70.94%, Test Loss: 0.6493, Test Accuracy: 77.71%\n",
      "Epoch [5/250], Loss: 0.7645, Accuracy: 73.34%, Test Loss: 0.6139, Test Accuracy: 79.06%\n",
      "Epoch [6/250], Loss: 0.7108, Accuracy: 75.50%, Test Loss: 0.5359, Test Accuracy: 81.60%\n",
      "Epoch [7/250], Loss: 0.6718, Accuracy: 76.75%, Test Loss: 0.4995, Test Accuracy: 82.98%\n",
      "Epoch [8/250], Loss: 0.6366, Accuracy: 78.01%, Test Loss: 0.5079, Test Accuracy: 82.42%\n",
      "Epoch [9/250], Loss: 0.6097, Accuracy: 78.83%, Test Loss: 0.4503, Test Accuracy: 84.83%\n",
      "Epoch [10/250], Loss: 0.5783, Accuracy: 80.08%, Test Loss: 0.4750, Test Accuracy: 84.04%\n",
      "Epoch [11/250], Loss: 0.5552, Accuracy: 80.72%, Test Loss: 0.4395, Test Accuracy: 84.94%\n",
      "Epoch [12/250], Loss: 0.5352, Accuracy: 81.62%, Test Loss: 0.3953, Test Accuracy: 86.27%\n",
      "Epoch [13/250], Loss: 0.5172, Accuracy: 82.12%, Test Loss: 0.3973, Test Accuracy: 86.29%\n",
      "Epoch [14/250], Loss: 0.5034, Accuracy: 82.68%, Test Loss: 0.3902, Test Accuracy: 86.46%\n",
      "Epoch [15/250], Loss: 0.4870, Accuracy: 83.19%, Test Loss: 0.3608, Test Accuracy: 87.54%\n",
      "Epoch [16/250], Loss: 0.4656, Accuracy: 84.02%, Test Loss: 0.3639, Test Accuracy: 87.40%\n",
      "Epoch [17/250], Loss: 0.4489, Accuracy: 84.39%, Test Loss: 0.3393, Test Accuracy: 88.40%\n",
      "Epoch [18/250], Loss: 0.4372, Accuracy: 85.09%, Test Loss: 0.3446, Test Accuracy: 88.41%\n",
      "Epoch [19/250], Loss: 0.4302, Accuracy: 85.23%, Test Loss: 0.3219, Test Accuracy: 89.04%\n",
      "Epoch [20/250], Loss: 0.4122, Accuracy: 85.58%, Test Loss: 0.3329, Test Accuracy: 88.84%\n",
      "Epoch [21/250], Loss: 0.4011, Accuracy: 86.09%, Test Loss: 0.3232, Test Accuracy: 89.25%\n",
      "Epoch [22/250], Loss: 0.3876, Accuracy: 86.57%, Test Loss: 0.2958, Test Accuracy: 89.86%\n",
      "Epoch [23/250], Loss: 0.3780, Accuracy: 87.01%, Test Loss: 0.2882, Test Accuracy: 90.18%\n",
      "Epoch [24/250], Loss: 0.3667, Accuracy: 87.21%, Test Loss: 0.3048, Test Accuracy: 89.62%\n",
      "Epoch [25/250], Loss: 0.3614, Accuracy: 87.46%, Test Loss: 0.3067, Test Accuracy: 89.36%\n",
      "Epoch [26/250], Loss: 0.3462, Accuracy: 88.05%, Test Loss: 0.2956, Test Accuracy: 90.50%\n",
      "Epoch [27/250], Loss: 0.3372, Accuracy: 88.39%, Test Loss: 0.2877, Test Accuracy: 90.32%\n",
      "Epoch [28/250], Loss: 0.3330, Accuracy: 88.54%, Test Loss: 0.2814, Test Accuracy: 90.73%\n",
      "Epoch [29/250], Loss: 0.3209, Accuracy: 88.92%, Test Loss: 0.2932, Test Accuracy: 90.43%\n",
      "Epoch [30/250], Loss: 0.3116, Accuracy: 89.03%, Test Loss: 0.2690, Test Accuracy: 90.67%\n",
      "Epoch [31/250], Loss: 0.3064, Accuracy: 89.39%, Test Loss: 0.2702, Test Accuracy: 90.77%\n",
      "Epoch [32/250], Loss: 0.2947, Accuracy: 89.72%, Test Loss: 0.2717, Test Accuracy: 90.70%\n",
      "Epoch [33/250], Loss: 0.2873, Accuracy: 89.96%, Test Loss: 0.2627, Test Accuracy: 91.42%\n",
      "Epoch [34/250], Loss: 0.2843, Accuracy: 90.22%, Test Loss: 0.2620, Test Accuracy: 91.21%\n",
      "Epoch [35/250], Loss: 0.2761, Accuracy: 90.35%, Test Loss: 0.2607, Test Accuracy: 91.28%\n",
      "Epoch [36/250], Loss: 0.2641, Accuracy: 90.79%, Test Loss: 0.2561, Test Accuracy: 91.70%\n",
      "Epoch [37/250], Loss: 0.2591, Accuracy: 91.01%, Test Loss: 0.2657, Test Accuracy: 91.22%\n",
      "Epoch [38/250], Loss: 0.2516, Accuracy: 91.36%, Test Loss: 0.2539, Test Accuracy: 91.64%\n",
      "Epoch [39/250], Loss: 0.2429, Accuracy: 91.67%, Test Loss: 0.2567, Test Accuracy: 91.42%\n",
      "Epoch [40/250], Loss: 0.2439, Accuracy: 91.48%, Test Loss: 0.2547, Test Accuracy: 91.64%\n",
      "Epoch [41/250], Loss: 0.2344, Accuracy: 91.95%, Test Loss: 0.2557, Test Accuracy: 91.34%\n",
      "Epoch [42/250], Loss: 0.2280, Accuracy: 92.12%, Test Loss: 0.2511, Test Accuracy: 91.65%\n",
      "Epoch [43/250], Loss: 0.2294, Accuracy: 92.00%, Test Loss: 0.2491, Test Accuracy: 91.82%\n",
      "Epoch [44/250], Loss: 0.2198, Accuracy: 92.36%, Test Loss: 0.2473, Test Accuracy: 91.87%\n",
      "Epoch [45/250], Loss: 0.2180, Accuracy: 92.36%, Test Loss: 0.2397, Test Accuracy: 92.15%\n",
      "Epoch [46/250], Loss: 0.2105, Accuracy: 92.60%, Test Loss: 0.2465, Test Accuracy: 92.07%\n",
      "Epoch [47/250], Loss: 0.2021, Accuracy: 92.89%, Test Loss: 0.2478, Test Accuracy: 91.94%\n",
      "Epoch [48/250], Loss: 0.1999, Accuracy: 93.04%, Test Loss: 0.2408, Test Accuracy: 92.20%\n",
      "Epoch [49/250], Loss: 0.1922, Accuracy: 93.26%, Test Loss: 0.2437, Test Accuracy: 92.08%\n",
      "Epoch [50/250], Loss: 0.1910, Accuracy: 93.37%, Test Loss: 0.2473, Test Accuracy: 92.11%\n",
      "Epoch [51/250], Loss: 0.1818, Accuracy: 93.69%, Test Loss: 0.2444, Test Accuracy: 92.19%\n",
      "Epoch [52/250], Loss: 0.1837, Accuracy: 93.52%, Test Loss: 0.2425, Test Accuracy: 92.18%\n",
      "Epoch [53/250], Loss: 0.1756, Accuracy: 94.01%, Test Loss: 0.2394, Test Accuracy: 92.23%\n",
      "Epoch [54/250], Loss: 0.1744, Accuracy: 93.97%, Test Loss: 0.2428, Test Accuracy: 92.08%\n",
      "Epoch [55/250], Loss: 0.1716, Accuracy: 93.99%, Test Loss: 0.2377, Test Accuracy: 92.47%\n",
      "Epoch [56/250], Loss: 0.1709, Accuracy: 94.01%, Test Loss: 0.2394, Test Accuracy: 92.27%\n",
      "Epoch [57/250], Loss: 0.1665, Accuracy: 94.18%, Test Loss: 0.2418, Test Accuracy: 92.27%\n",
      "Epoch [58/250], Loss: 0.1589, Accuracy: 94.49%, Test Loss: 0.2426, Test Accuracy: 92.38%\n",
      "Epoch [59/250], Loss: 0.1569, Accuracy: 94.47%, Test Loss: 0.2388, Test Accuracy: 92.52%\n",
      "Epoch [60/250], Loss: 0.1552, Accuracy: 94.72%, Test Loss: 0.2406, Test Accuracy: 92.60%\n",
      "Epoch [61/250], Loss: 0.1494, Accuracy: 94.82%, Test Loss: 0.2391, Test Accuracy: 92.45%\n",
      "Epoch [62/250], Loss: 0.1471, Accuracy: 94.98%, Test Loss: 0.2409, Test Accuracy: 92.60%\n",
      "Epoch [63/250], Loss: 0.1454, Accuracy: 94.97%, Test Loss: 0.2392, Test Accuracy: 92.62%\n",
      "Epoch [64/250], Loss: 0.1445, Accuracy: 95.10%, Test Loss: 0.2414, Test Accuracy: 92.58%\n",
      "Epoch [65/250], Loss: 0.1421, Accuracy: 95.05%, Test Loss: 0.2400, Test Accuracy: 92.62%\n",
      "Epoch [66/250], Loss: 0.1369, Accuracy: 95.35%, Test Loss: 0.2398, Test Accuracy: 92.86%\n",
      "Epoch [67/250], Loss: 0.1355, Accuracy: 95.35%, Test Loss: 0.2482, Test Accuracy: 92.41%\n",
      "Epoch [68/250], Loss: 0.1373, Accuracy: 95.23%, Test Loss: 0.2426, Test Accuracy: 92.76%\n",
      "Epoch [69/250], Loss: 0.1312, Accuracy: 95.42%, Test Loss: 0.2433, Test Accuracy: 92.60%\n",
      "Epoch [70/250], Loss: 0.1290, Accuracy: 95.52%, Test Loss: 0.2439, Test Accuracy: 92.82%\n",
      "Epoch [71/250], Loss: 0.1224, Accuracy: 95.88%, Test Loss: 0.2429, Test Accuracy: 92.93%\n",
      "Epoch [72/250], Loss: 0.1252, Accuracy: 95.68%, Test Loss: 0.2400, Test Accuracy: 92.71%\n",
      "Epoch [73/250], Loss: 0.1231, Accuracy: 95.71%, Test Loss: 0.2442, Test Accuracy: 92.66%\n",
      "Epoch [74/250], Loss: 0.1204, Accuracy: 95.81%, Test Loss: 0.2401, Test Accuracy: 92.75%\n",
      "Epoch [75/250], Loss: 0.1228, Accuracy: 95.75%, Test Loss: 0.2371, Test Accuracy: 92.93%\n",
      "Epoch [76/250], Loss: 0.1174, Accuracy: 95.93%, Test Loss: 0.2420, Test Accuracy: 92.86%\n",
      "Epoch [77/250], Loss: 0.1156, Accuracy: 96.08%, Test Loss: 0.2416, Test Accuracy: 92.88%\n",
      "Epoch [78/250], Loss: 0.1143, Accuracy: 96.09%, Test Loss: 0.2381, Test Accuracy: 92.89%\n",
      "Epoch [79/250], Loss: 0.1138, Accuracy: 96.03%, Test Loss: 0.2370, Test Accuracy: 93.13%\n",
      "Epoch [80/250], Loss: 0.1141, Accuracy: 96.09%, Test Loss: 0.2349, Test Accuracy: 93.14%\n",
      "Epoch [81/250], Loss: 0.1092, Accuracy: 96.25%, Test Loss: 0.2396, Test Accuracy: 93.00%\n",
      "Epoch [82/250], Loss: 0.1106, Accuracy: 96.19%, Test Loss: 0.2352, Test Accuracy: 93.22%\n",
      "Epoch [83/250], Loss: 0.1079, Accuracy: 96.40%, Test Loss: 0.2394, Test Accuracy: 93.05%\n",
      "Epoch [84/250], Loss: 0.1073, Accuracy: 96.28%, Test Loss: 0.2362, Test Accuracy: 93.06%\n",
      "Epoch [85/250], Loss: 0.1048, Accuracy: 96.43%, Test Loss: 0.2374, Test Accuracy: 93.16%\n",
      "Epoch [86/250], Loss: 0.1063, Accuracy: 96.36%, Test Loss: 0.2379, Test Accuracy: 93.00%\n",
      "Epoch [87/250], Loss: 0.1041, Accuracy: 96.43%, Test Loss: 0.2371, Test Accuracy: 93.05%\n",
      "Epoch [88/250], Loss: 0.1003, Accuracy: 96.57%, Test Loss: 0.2390, Test Accuracy: 92.94%\n",
      "Epoch [89/250], Loss: 0.1016, Accuracy: 96.50%, Test Loss: 0.2407, Test Accuracy: 93.10%\n",
      "Epoch [90/250], Loss: 0.0960, Accuracy: 96.77%, Test Loss: 0.2398, Test Accuracy: 93.25%\n",
      "Epoch [91/250], Loss: 0.1000, Accuracy: 96.56%, Test Loss: 0.2395, Test Accuracy: 93.15%\n",
      "Epoch [92/250], Loss: 0.0969, Accuracy: 96.70%, Test Loss: 0.2417, Test Accuracy: 92.93%\n",
      "Epoch [93/250], Loss: 0.0996, Accuracy: 96.53%, Test Loss: 0.2422, Test Accuracy: 93.01%\n",
      "Epoch [94/250], Loss: 0.0963, Accuracy: 96.64%, Test Loss: 0.2403, Test Accuracy: 93.09%\n",
      "Epoch [95/250], Loss: 0.0939, Accuracy: 96.75%, Test Loss: 0.2402, Test Accuracy: 93.11%\n",
      "Epoch [96/250], Loss: 0.0946, Accuracy: 96.83%, Test Loss: 0.2416, Test Accuracy: 93.15%\n",
      "Epoch [97/250], Loss: 0.0967, Accuracy: 96.75%, Test Loss: 0.2395, Test Accuracy: 93.12%\n",
      "Epoch [98/250], Loss: 0.0919, Accuracy: 96.87%, Test Loss: 0.2405, Test Accuracy: 93.17%\n",
      "Epoch [99/250], Loss: 0.0921, Accuracy: 96.84%, Test Loss: 0.2405, Test Accuracy: 93.24%\n",
      "Epoch [100/250], Loss: 0.0939, Accuracy: 96.81%, Test Loss: 0.2413, Test Accuracy: 93.05%\n",
      "Epoch [101/250], Loss: 0.0926, Accuracy: 96.83%, Test Loss: 0.2414, Test Accuracy: 93.14%\n",
      "Epoch [102/250], Loss: 0.0939, Accuracy: 96.78%, Test Loss: 0.2429, Test Accuracy: 93.02%\n",
      "Epoch [103/250], Loss: 0.0924, Accuracy: 96.86%, Test Loss: 0.2442, Test Accuracy: 92.95%\n",
      "Epoch [104/250], Loss: 0.0892, Accuracy: 97.04%, Test Loss: 0.2448, Test Accuracy: 93.01%\n",
      "Epoch [105/250], Loss: 0.0915, Accuracy: 96.85%, Test Loss: 0.2452, Test Accuracy: 93.01%\n",
      "Epoch [106/250], Loss: 0.0899, Accuracy: 96.94%, Test Loss: 0.2470, Test Accuracy: 92.95%\n",
      "Epoch [107/250], Loss: 0.0877, Accuracy: 96.96%, Test Loss: 0.2451, Test Accuracy: 93.12%\n",
      "Epoch [108/250], Loss: 0.0865, Accuracy: 97.02%, Test Loss: 0.2423, Test Accuracy: 93.03%\n",
      "Epoch [109/250], Loss: 0.0875, Accuracy: 97.06%, Test Loss: 0.2439, Test Accuracy: 93.03%\n",
      "Epoch [110/250], Loss: 0.0904, Accuracy: 97.05%, Test Loss: 0.2426, Test Accuracy: 93.11%\n",
      "Epoch [111/250], Loss: 0.0815, Accuracy: 97.26%, Test Loss: 0.2416, Test Accuracy: 93.09%\n",
      "Epoch [112/250], Loss: 0.0885, Accuracy: 96.98%, Test Loss: 0.2408, Test Accuracy: 93.01%\n",
      "Epoch [113/250], Loss: 0.0865, Accuracy: 97.08%, Test Loss: 0.2445, Test Accuracy: 93.14%\n",
      "Epoch [114/250], Loss: 0.0858, Accuracy: 97.05%, Test Loss: 0.2441, Test Accuracy: 93.08%\n",
      "Epoch [115/250], Loss: 0.0847, Accuracy: 97.14%, Test Loss: 0.2435, Test Accuracy: 93.26%\n",
      "Epoch [116/250], Loss: 0.0868, Accuracy: 97.02%, Test Loss: 0.2428, Test Accuracy: 93.16%\n",
      "Epoch [117/250], Loss: 0.0851, Accuracy: 97.03%, Test Loss: 0.2437, Test Accuracy: 93.07%\n",
      "Epoch [118/250], Loss: 0.0821, Accuracy: 97.20%, Test Loss: 0.2442, Test Accuracy: 93.11%\n",
      "Epoch [119/250], Loss: 0.0812, Accuracy: 97.19%, Test Loss: 0.2433, Test Accuracy: 93.11%\n",
      "Epoch [120/250], Loss: 0.0858, Accuracy: 97.05%, Test Loss: 0.2443, Test Accuracy: 93.04%\n",
      "Epoch [121/250], Loss: 0.0829, Accuracy: 97.20%, Test Loss: 0.2454, Test Accuracy: 93.13%\n",
      "Epoch [122/250], Loss: 0.0848, Accuracy: 97.15%, Test Loss: 0.2440, Test Accuracy: 93.07%\n",
      "Epoch [123/250], Loss: 0.0816, Accuracy: 97.28%, Test Loss: 0.2446, Test Accuracy: 93.12%\n",
      "Epoch [124/250], Loss: 0.0810, Accuracy: 97.37%, Test Loss: 0.2439, Test Accuracy: 93.05%\n",
      "Epoch [125/250], Loss: 0.0828, Accuracy: 97.17%, Test Loss: 0.2443, Test Accuracy: 93.03%\n",
      "Epoch [126/250], Loss: 0.0820, Accuracy: 97.24%, Test Loss: 0.2435, Test Accuracy: 93.16%\n",
      "Epoch [127/250], Loss: 0.0810, Accuracy: 97.25%, Test Loss: 0.2407, Test Accuracy: 93.12%\n",
      "Epoch [128/250], Loss: 0.0844, Accuracy: 97.15%, Test Loss: 0.2413, Test Accuracy: 93.19%\n",
      "Epoch [129/250], Loss: 0.0833, Accuracy: 97.29%, Test Loss: 0.2432, Test Accuracy: 93.14%\n",
      "Epoch [130/250], Loss: 0.0838, Accuracy: 97.13%, Test Loss: 0.2436, Test Accuracy: 93.08%\n",
      "Epoch [131/250], Loss: 0.0801, Accuracy: 97.27%, Test Loss: 0.2433, Test Accuracy: 93.02%\n",
      "Epoch [132/250], Loss: 0.0795, Accuracy: 97.28%, Test Loss: 0.2437, Test Accuracy: 93.06%\n",
      "Epoch [133/250], Loss: 0.0798, Accuracy: 97.30%, Test Loss: 0.2445, Test Accuracy: 93.14%\n",
      "Epoch [134/250], Loss: 0.0823, Accuracy: 97.12%, Test Loss: 0.2437, Test Accuracy: 93.10%\n",
      "Epoch [135/250], Loss: 0.0790, Accuracy: 97.32%, Test Loss: 0.2442, Test Accuracy: 93.09%\n",
      "Epoch [136/250], Loss: 0.0799, Accuracy: 97.29%, Test Loss: 0.2445, Test Accuracy: 93.20%\n",
      "Epoch [137/250], Loss: 0.0784, Accuracy: 97.37%, Test Loss: 0.2450, Test Accuracy: 93.20%\n",
      "Epoch [138/250], Loss: 0.0824, Accuracy: 97.26%, Test Loss: 0.2452, Test Accuracy: 93.14%\n",
      "Epoch [139/250], Loss: 0.0793, Accuracy: 97.32%, Test Loss: 0.2445, Test Accuracy: 93.18%\n",
      "Epoch [140/250], Loss: 0.0795, Accuracy: 97.30%, Test Loss: 0.2445, Test Accuracy: 93.20%\n",
      "Epoch [141/250], Loss: 0.0801, Accuracy: 97.34%, Test Loss: 0.2461, Test Accuracy: 93.16%\n",
      "Epoch [142/250], Loss: 0.0792, Accuracy: 97.32%, Test Loss: 0.2446, Test Accuracy: 93.13%\n",
      "Epoch [143/250], Loss: 0.0777, Accuracy: 97.36%, Test Loss: 0.2444, Test Accuracy: 93.14%\n",
      "Epoch [144/250], Loss: 0.0807, Accuracy: 97.28%, Test Loss: 0.2461, Test Accuracy: 93.13%\n",
      "Epoch [145/250], Loss: 0.0790, Accuracy: 97.33%, Test Loss: 0.2468, Test Accuracy: 93.10%\n",
      "Epoch [146/250], Loss: 0.0788, Accuracy: 97.30%, Test Loss: 0.2449, Test Accuracy: 93.07%\n",
      "Epoch [147/250], Loss: 0.0783, Accuracy: 97.30%, Test Loss: 0.2445, Test Accuracy: 93.22%\n",
      "Epoch [148/250], Loss: 0.0771, Accuracy: 97.37%, Test Loss: 0.2448, Test Accuracy: 93.15%\n",
      "Epoch [149/250], Loss: 0.0808, Accuracy: 97.30%, Test Loss: 0.2445, Test Accuracy: 93.08%\n",
      "Epoch [150/250], Loss: 0.0805, Accuracy: 97.24%, Test Loss: 0.2439, Test Accuracy: 93.01%\n",
      "Epoch [151/250], Loss: 0.0743, Accuracy: 97.45%, Test Loss: 0.2441, Test Accuracy: 93.14%\n",
      "Epoch [152/250], Loss: 0.0800, Accuracy: 97.33%, Test Loss: 0.2433, Test Accuracy: 93.08%\n",
      "Epoch [153/250], Loss: 0.0794, Accuracy: 97.31%, Test Loss: 0.2439, Test Accuracy: 93.14%\n",
      "Epoch [154/250], Loss: 0.0791, Accuracy: 97.26%, Test Loss: 0.2449, Test Accuracy: 93.07%\n",
      "Epoch [155/250], Loss: 0.0780, Accuracy: 97.38%, Test Loss: 0.2443, Test Accuracy: 93.03%\n",
      "Epoch [156/250], Loss: 0.0767, Accuracy: 97.36%, Test Loss: 0.2443, Test Accuracy: 93.18%\n",
      "Epoch [157/250], Loss: 0.0762, Accuracy: 97.50%, Test Loss: 0.2451, Test Accuracy: 93.16%\n",
      "Epoch [158/250], Loss: 0.0771, Accuracy: 97.35%, Test Loss: 0.2437, Test Accuracy: 93.14%\n",
      "Epoch [159/250], Loss: 0.0807, Accuracy: 97.27%, Test Loss: 0.2460, Test Accuracy: 93.22%\n",
      "Epoch [160/250], Loss: 0.0764, Accuracy: 97.40%, Test Loss: 0.2443, Test Accuracy: 93.12%\n",
      "Epoch [161/250], Loss: 0.0789, Accuracy: 97.34%, Test Loss: 0.2452, Test Accuracy: 93.15%\n",
      "Epoch [162/250], Loss: 0.0798, Accuracy: 97.35%, Test Loss: 0.2467, Test Accuracy: 93.19%\n",
      "Epoch [163/250], Loss: 0.0771, Accuracy: 97.44%, Test Loss: 0.2441, Test Accuracy: 93.13%\n",
      "Epoch [164/250], Loss: 0.0774, Accuracy: 97.42%, Test Loss: 0.2450, Test Accuracy: 93.18%\n",
      "Epoch [165/250], Loss: 0.0757, Accuracy: 97.44%, Test Loss: 0.2439, Test Accuracy: 93.14%\n",
      "Epoch [166/250], Loss: 0.0772, Accuracy: 97.38%, Test Loss: 0.2451, Test Accuracy: 93.09%\n",
      "Epoch [167/250], Loss: 0.0765, Accuracy: 97.38%, Test Loss: 0.2443, Test Accuracy: 93.10%\n",
      "Epoch [168/250], Loss: 0.0761, Accuracy: 97.39%, Test Loss: 0.2452, Test Accuracy: 93.14%\n",
      "Epoch [169/250], Loss: 0.0775, Accuracy: 97.39%, Test Loss: 0.2458, Test Accuracy: 93.10%\n",
      "Epoch [170/250], Loss: 0.0797, Accuracy: 97.32%, Test Loss: 0.2442, Test Accuracy: 93.15%\n",
      "Epoch [171/250], Loss: 0.0765, Accuracy: 97.42%, Test Loss: 0.2445, Test Accuracy: 93.19%\n",
      "Epoch [172/250], Loss: 0.0816, Accuracy: 97.25%, Test Loss: 0.2442, Test Accuracy: 93.05%\n",
      "Epoch [173/250], Loss: 0.0752, Accuracy: 97.50%, Test Loss: 0.2453, Test Accuracy: 93.16%\n",
      "Epoch [174/250], Loss: 0.0774, Accuracy: 97.31%, Test Loss: 0.2464, Test Accuracy: 93.20%\n",
      "Epoch [175/250], Loss: 0.0768, Accuracy: 97.33%, Test Loss: 0.2459, Test Accuracy: 93.08%\n",
      "Epoch [176/250], Loss: 0.0769, Accuracy: 97.34%, Test Loss: 0.2447, Test Accuracy: 93.21%\n",
      "Epoch [177/250], Loss: 0.0788, Accuracy: 97.35%, Test Loss: 0.2456, Test Accuracy: 93.20%\n",
      "Epoch [178/250], Loss: 0.0779, Accuracy: 97.42%, Test Loss: 0.2451, Test Accuracy: 93.23%\n",
      "Epoch [179/250], Loss: 0.0772, Accuracy: 97.43%, Test Loss: 0.2459, Test Accuracy: 93.17%\n",
      "Epoch [180/250], Loss: 0.0784, Accuracy: 97.32%, Test Loss: 0.2461, Test Accuracy: 93.12%\n",
      "Epoch [181/250], Loss: 0.0762, Accuracy: 97.40%, Test Loss: 0.2451, Test Accuracy: 93.13%\n",
      "Epoch [182/250], Loss: 0.0772, Accuracy: 97.41%, Test Loss: 0.2443, Test Accuracy: 93.16%\n",
      "Epoch [183/250], Loss: 0.0748, Accuracy: 97.47%, Test Loss: 0.2437, Test Accuracy: 93.05%\n",
      "Epoch [184/250], Loss: 0.0759, Accuracy: 97.43%, Test Loss: 0.2456, Test Accuracy: 93.19%\n",
      "Epoch [185/250], Loss: 0.0773, Accuracy: 97.38%, Test Loss: 0.2444, Test Accuracy: 93.10%\n",
      "Epoch [186/250], Loss: 0.0768, Accuracy: 97.42%, Test Loss: 0.2452, Test Accuracy: 93.11%\n",
      "Epoch [187/250], Loss: 0.0778, Accuracy: 97.40%, Test Loss: 0.2465, Test Accuracy: 93.17%\n",
      "Epoch [188/250], Loss: 0.0798, Accuracy: 97.34%, Test Loss: 0.2467, Test Accuracy: 93.09%\n",
      "Epoch [189/250], Loss: 0.0771, Accuracy: 97.46%, Test Loss: 0.2455, Test Accuracy: 93.18%\n",
      "Epoch [190/250], Loss: 0.0783, Accuracy: 97.38%, Test Loss: 0.2447, Test Accuracy: 93.16%\n",
      "Epoch [191/250], Loss: 0.0788, Accuracy: 97.37%, Test Loss: 0.2446, Test Accuracy: 93.08%\n",
      "Epoch [192/250], Loss: 0.0741, Accuracy: 97.49%, Test Loss: 0.2446, Test Accuracy: 93.19%\n",
      "Epoch [193/250], Loss: 0.0764, Accuracy: 97.44%, Test Loss: 0.2453, Test Accuracy: 93.07%\n",
      "Epoch [194/250], Loss: 0.0782, Accuracy: 97.40%, Test Loss: 0.2453, Test Accuracy: 93.20%\n",
      "Epoch [195/250], Loss: 0.0760, Accuracy: 97.44%, Test Loss: 0.2442, Test Accuracy: 93.12%\n",
      "Epoch [196/250], Loss: 0.0767, Accuracy: 97.42%, Test Loss: 0.2457, Test Accuracy: 93.25%\n",
      "Epoch [197/250], Loss: 0.0761, Accuracy: 97.48%, Test Loss: 0.2451, Test Accuracy: 93.11%\n",
      "Epoch [198/250], Loss: 0.0766, Accuracy: 97.42%, Test Loss: 0.2446, Test Accuracy: 93.09%\n",
      "Epoch [199/250], Loss: 0.0762, Accuracy: 97.43%, Test Loss: 0.2455, Test Accuracy: 93.22%\n",
      "Epoch [200/250], Loss: 0.0781, Accuracy: 97.40%, Test Loss: 0.2456, Test Accuracy: 93.20%\n",
      "Epoch [201/250], Loss: 0.0752, Accuracy: 97.47%, Test Loss: 0.2451, Test Accuracy: 93.11%\n",
      "Epoch [202/250], Loss: 0.0773, Accuracy: 97.43%, Test Loss: 0.2451, Test Accuracy: 93.20%\n",
      "Epoch [203/250], Loss: 0.0779, Accuracy: 97.35%, Test Loss: 0.2447, Test Accuracy: 93.15%\n",
      "Epoch [204/250], Loss: 0.0757, Accuracy: 97.43%, Test Loss: 0.2439, Test Accuracy: 93.18%\n",
      "Epoch [205/250], Loss: 0.0783, Accuracy: 97.29%, Test Loss: 0.2449, Test Accuracy: 93.23%\n",
      "Epoch [206/250], Loss: 0.0764, Accuracy: 97.36%, Test Loss: 0.2452, Test Accuracy: 93.11%\n",
      "Epoch [207/250], Loss: 0.0766, Accuracy: 97.35%, Test Loss: 0.2441, Test Accuracy: 93.14%\n",
      "Epoch [208/250], Loss: 0.0783, Accuracy: 97.33%, Test Loss: 0.2457, Test Accuracy: 93.15%\n",
      "Epoch [209/250], Loss: 0.0765, Accuracy: 97.37%, Test Loss: 0.2448, Test Accuracy: 93.12%\n",
      "Epoch [210/250], Loss: 0.0754, Accuracy: 97.52%, Test Loss: 0.2440, Test Accuracy: 93.15%\n",
      "Epoch [211/250], Loss: 0.0764, Accuracy: 97.33%, Test Loss: 0.2451, Test Accuracy: 93.12%\n",
      "Epoch [212/250], Loss: 0.0751, Accuracy: 97.41%, Test Loss: 0.2444, Test Accuracy: 93.22%\n",
      "Epoch [213/250], Loss: 0.0739, Accuracy: 97.47%, Test Loss: 0.2448, Test Accuracy: 93.14%\n",
      "Epoch [214/250], Loss: 0.0744, Accuracy: 97.48%, Test Loss: 0.2458, Test Accuracy: 93.19%\n",
      "Epoch [215/250], Loss: 0.0752, Accuracy: 97.46%, Test Loss: 0.2450, Test Accuracy: 93.18%\n",
      "Epoch [216/250], Loss: 0.0784, Accuracy: 97.40%, Test Loss: 0.2452, Test Accuracy: 93.18%\n",
      "Epoch [217/250], Loss: 0.0771, Accuracy: 97.46%, Test Loss: 0.2450, Test Accuracy: 93.17%\n",
      "Epoch [218/250], Loss: 0.0776, Accuracy: 97.42%, Test Loss: 0.2454, Test Accuracy: 93.09%\n",
      "Epoch [219/250], Loss: 0.0785, Accuracy: 97.26%, Test Loss: 0.2455, Test Accuracy: 93.17%\n",
      "Epoch [220/250], Loss: 0.0773, Accuracy: 97.35%, Test Loss: 0.2460, Test Accuracy: 93.20%\n",
      "Epoch [221/250], Loss: 0.0787, Accuracy: 97.34%, Test Loss: 0.2452, Test Accuracy: 93.15%\n",
      "Epoch [222/250], Loss: 0.0745, Accuracy: 97.51%, Test Loss: 0.2451, Test Accuracy: 93.11%\n",
      "Epoch [223/250], Loss: 0.0778, Accuracy: 97.37%, Test Loss: 0.2451, Test Accuracy: 93.20%\n",
      "Epoch [224/250], Loss: 0.0782, Accuracy: 97.31%, Test Loss: 0.2441, Test Accuracy: 93.15%\n",
      "Epoch [225/250], Loss: 0.0805, Accuracy: 97.30%, Test Loss: 0.2455, Test Accuracy: 93.16%\n",
      "Epoch [226/250], Loss: 0.0749, Accuracy: 97.48%, Test Loss: 0.2453, Test Accuracy: 93.06%\n",
      "Epoch [227/250], Loss: 0.0759, Accuracy: 97.40%, Test Loss: 0.2456, Test Accuracy: 93.10%\n",
      "Epoch [228/250], Loss: 0.0797, Accuracy: 97.31%, Test Loss: 0.2459, Test Accuracy: 93.11%\n",
      "Epoch [229/250], Loss: 0.0765, Accuracy: 97.33%, Test Loss: 0.2450, Test Accuracy: 93.23%\n",
      "Epoch [230/250], Loss: 0.0757, Accuracy: 97.50%, Test Loss: 0.2444, Test Accuracy: 93.13%\n",
      "Epoch [231/250], Loss: 0.0775, Accuracy: 97.40%, Test Loss: 0.2449, Test Accuracy: 93.15%\n",
      "Epoch [232/250], Loss: 0.0791, Accuracy: 97.39%, Test Loss: 0.2453, Test Accuracy: 93.07%\n",
      "Epoch [233/250], Loss: 0.0769, Accuracy: 97.43%, Test Loss: 0.2472, Test Accuracy: 93.07%\n",
      "Epoch [234/250], Loss: 0.0745, Accuracy: 97.46%, Test Loss: 0.2450, Test Accuracy: 93.14%\n",
      "Epoch [235/250], Loss: 0.0759, Accuracy: 97.46%, Test Loss: 0.2465, Test Accuracy: 93.13%\n",
      "Epoch [236/250], Loss: 0.0772, Accuracy: 97.43%, Test Loss: 0.2440, Test Accuracy: 93.18%\n",
      "Epoch [237/250], Loss: 0.0802, Accuracy: 97.30%, Test Loss: 0.2449, Test Accuracy: 93.09%\n",
      "Epoch [238/250], Loss: 0.0757, Accuracy: 97.45%, Test Loss: 0.2449, Test Accuracy: 93.17%\n",
      "Epoch [239/250], Loss: 0.0773, Accuracy: 97.40%, Test Loss: 0.2460, Test Accuracy: 93.14%\n",
      "Epoch [240/250], Loss: 0.0753, Accuracy: 97.45%, Test Loss: 0.2451, Test Accuracy: 93.09%\n",
      "Epoch [241/250], Loss: 0.0737, Accuracy: 97.53%, Test Loss: 0.2440, Test Accuracy: 93.17%\n",
      "Epoch [242/250], Loss: 0.0761, Accuracy: 97.43%, Test Loss: 0.2450, Test Accuracy: 93.16%\n",
      "Epoch [243/250], Loss: 0.0747, Accuracy: 97.52%, Test Loss: 0.2457, Test Accuracy: 93.10%\n",
      "Epoch [244/250], Loss: 0.0747, Accuracy: 97.45%, Test Loss: 0.2448, Test Accuracy: 93.16%\n",
      "Epoch [245/250], Loss: 0.0795, Accuracy: 97.29%, Test Loss: 0.2456, Test Accuracy: 93.11%\n",
      "Epoch [246/250], Loss: 0.0757, Accuracy: 97.38%, Test Loss: 0.2449, Test Accuracy: 93.17%\n",
      "Epoch [247/250], Loss: 0.0759, Accuracy: 97.42%, Test Loss: 0.2456, Test Accuracy: 93.23%\n",
      "Epoch [248/250], Loss: 0.0769, Accuracy: 97.35%, Test Loss: 0.2444, Test Accuracy: 93.17%\n",
      "Epoch [249/250], Loss: 0.0759, Accuracy: 97.41%, Test Loss: 0.2453, Test Accuracy: 93.11%\n",
      "Epoch [250/250], Loss: 0.0770, Accuracy: 97.41%, Test Loss: 0.2440, Test Accuracy: 93.19%\n"
     ]
    }
   ],
   "source": [
    "# train\n",
    "for epoch in range(max_epoch):\n",
    "    model.train()\n",
    "    running_loss = 0.0\n",
    "    running_correct = 0   # number of correct predictions\n",
    "    total = 0             # total number of samples\n",
    "\n",
    "    for i, (inputs, labels) in enumerate(trainloader, 0):\n",
    "        # Move inputs and labels to the device\n",
    "        inputs, labels = inputs.to(device), labels.to(device)\n",
    "\n",
    "        # Zero the parameter gradients\n",
    "        optimizer.zero_grad()\n",
    "\n",
    "        # Forward pass\n",
    "        outputs = model(inputs)\n",
    "        loss = criterion(outputs, labels)\n",
    "        running_loss += loss.item()\n",
    "\n",
    "        # Backward pass and optimization\n",
    "        loss.backward()\n",
    "        optimizer.step()  \n",
    "    \n",
    "        # Determine class predictions and track accuracy\n",
    "        _, predicted = torch.max(outputs.data, 1)\n",
    "        total += labels.size(0)\n",
    "        running_correct += (predicted == labels).sum().item()\n",
    "\n",
    "\n",
    "    epoch_accuracy = 100 * running_correct / total\n",
    "    epoch_loss = running_loss / (i + 1)\n",
    "    \n",
    "    test_loss, test_accuracy = evaluate(model, testloader, criterion)\n",
    "    print(f\"Epoch [{epoch + 1}/{max_epoch}], Loss: {epoch_loss:.4f}, Accuracy: {epoch_accuracy:.2f}%, Test Loss: {test_loss:.4f}, Test Accuracy: {test_accuracy:.2f}%\")\n",
    "    \n",
    "    # save for plot\n",
    "    train_losses.append(epoch_loss)\n",
    "    train_accuracies.append(epoch_accuracy)\n",
    "    test_losses.append(test_loss)\n",
    "    test_accuracies.append(test_accuracy)\n",
    "\n",
    "    # update learning rate\n",
    "    lr_scheduler.step()"
   ]
  },
  {
   "cell_type": "code",
   "execution_count": 10,
   "id": "6ecbb02b",
   "metadata": {
    "execution": {
     "iopub.execute_input": "2024-01-16T11:54:38.323234Z",
     "iopub.status.busy": "2024-01-16T11:54:38.322400Z",
     "iopub.status.idle": "2024-01-16T11:54:38.867220Z",
     "shell.execute_reply": "2024-01-16T11:54:38.866223Z"
    },
    "papermill": {
     "duration": 0.575051,
     "end_time": "2024-01-16T11:54:38.869279",
     "exception": false,
     "start_time": "2024-01-16T11:54:38.294228",
     "status": "completed"
    },
    "tags": []
   },
   "outputs": [
    {
     "data": {
      "image/png": "[encoded data removed]",
      "text/plain": [
       "<Figure size 800x400 with 2 Axes>"
      ]
     },
     "metadata": {},
     "output_type": "display_data"
    }
   ],
   "source": [
    "fig, ax = plt.subplots(1,2,figsize=(8,4))\n",
    "ax[0].plot(train_losses, label='train_losses')\n",
    "ax[0].plot(test_losses, label='test_losses')\n",
    "ax[0].legend()\n",
    "\n",
    "ax[1].plot(train_accuracies, label='train_accuracy')\n",
    "ax[1].plot(test_accuracies, label='test_accuracy')\n",
    "ax[1].legend()\n",
    "\n",
    "# Adjust layout for better spacing\n",
    "plt.tight_layout()\n",
    "\n",
    "# Show the plot\n",
    "plt.show()\n"
   ]
  },
  {
   "cell_type": "code",
   "execution_count": null,
   "id": "e5f9892b",
   "metadata": {
    "papermill": {
     "duration": 0.026731,
     "end_time": "2024-01-16T11:54:38.923763",
     "exception": false,
     "start_time": "2024-01-16T11:54:38.897032",
     "status": "completed"
    },
    "tags": []
   },
   "outputs": [],
   "source": []
  }
 ],
 "metadata": {
  "kaggle": {
   "accelerator": "nvidiaTeslaT4",
   "dataSources": [],
   "dockerImageVersionId": 30636,
   "isGpuEnabled": true,
   "isInternetEnabled": true,
   "language": "python",
   "sourceType": "notebook"
  },
  "kernelspec": {
   "display_name": "Python 3",
   "language": "python",
   "name": "python3"
  },
  "language_info": {
   "codemirror_mode": {
    "name": "ipython",
    "version": 3
   },
   "file_extension": ".py",
   "mimetype": "text/x-python",
   "name": "python",
   "nbconvert_exporter": "python",
   "pygments_lexer": "ipython3",
   "version": "3.10.12"
  },
  "papermill": {
   "default_parameters": {},
   "duration": 5509.327184,
   "end_time": "2024-01-16T11:54:40.584851",
   "environment_variables": {},
   "exception": null,
   "input_path": "__notebook__.ipynb",
   "output_path": "__notebook__.ipynb",
   "parameters": {},
   "start_time": "2024-01-16T10:22:51.257667",
   "version": "2.4.0"
  }
 },
 "nbformat": 4,
 "nbformat_minor": 5
}
